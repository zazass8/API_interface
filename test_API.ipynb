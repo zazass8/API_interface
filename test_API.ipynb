{
 "cells": [
  {
   "cell_type": "code",
   "execution_count": 1,
   "metadata": {},
   "outputs": [],
   "source": [
    "import requests"
   ]
  },
  {
   "cell_type": "code",
   "execution_count": 2,
   "metadata": {},
   "outputs": [
    {
     "name": "stdout",
     "output_type": "stream",
     "text": [
      "Response Status Code: 200\n",
      "Response Content: {'message': 'User added successfully'}\n"
     ]
    }
   ],
   "source": [
    "# Add a user\n",
    "url = 'http://127.0.0.1:5000/addUser'\n",
    "\n",
    "data = {\n",
    "    'user_name': 'user1'\n",
    "}\n",
    "\n",
    "response = requests.post(url, json=data)\n",
    "\n",
    "print('Response Status Code:', response.status_code)\n",
    "print('Response Content:', response.json())"
   ]
  },
  {
   "cell_type": "code",
   "execution_count": 5,
   "metadata": {},
   "outputs": [
    {
     "name": "stdout",
     "output_type": "stream",
     "text": [
      "Response Status Code: 200\n",
      "Response Content: {'message': 'Post added successfully'}\n"
     ]
    }
   ],
   "source": [
    "# Add a post\n",
    "url = 'http://127.0.0.1:5000/addPost'\n",
    "\n",
    "data = {\n",
    "    'user_name': 'user1',\n",
    "    'post_text': 'just #chilling today',\n",
    "    'timestamp': 1\n",
    "}\n",
    "\n",
    "response = requests.post(url, json=data)\n",
    "\n",
    "print('Response Status Code:', response.status_code)\n",
    "print('Response Content:', response.json())"
   ]
  },
  {
   "cell_type": "code",
   "execution_count": 6,
   "metadata": {},
   "outputs": [
    {
     "name": "stdout",
     "output_type": "stream",
     "text": [
      "Response Status Code: 200\n",
      "Response Content: {'posts': ['ugh! this #steak tasted like dog food', 'eating #steak for dinner', 'just #chilling today']}\n"
     ]
    }
   ],
   "source": [
    "# Get post with username\n",
    "\n",
    "def getpostuser(username):\n",
    "    url = f'http://127.0.0.1:5000/getPostsForUser?user_name={username}'\n",
    "\n",
    "    response = requests.get(url)\n",
    "\n",
    "    print('Response Status Code:', response.status_code)\n",
    "    print('Response Content:', response.json())\n",
    "\n",
    "getpostuser(\"user1\")"
   ]
  },
  {
   "cell_type": "code",
   "execution_count": 7,
   "metadata": {},
   "outputs": [
    {
     "name": "stdout",
     "output_type": "stream",
     "text": [
      "Response Status Code: 200\n",
      "Response Content: {'posts': ['ugh! this #steak tasted like dog food', 'eating #steak for dinner']}\n"
     ]
    }
   ],
   "source": [
    "# Get post with topic\n",
    "\n",
    "def getposttopic(topic):\n",
    "    url = f'http://127.0.0.1:5000/getPostsForTopic?topic={topic}'\n",
    "\n",
    "    response = requests.get(url)\n",
    "\n",
    "    print('Response Status Code:', response.status_code)\n",
    "    print('Response Content:', response.json())\n",
    "\n",
    "getposttopic(\"steak\")"
   ]
  },
  {
   "cell_type": "code",
   "execution_count": 9,
   "metadata": {},
   "outputs": [
    {
     "name": "stdout",
     "output_type": "stream",
     "text": [
      "Response Status Code: 200\n",
      "Response Content: {'topics': ['steak', 'chilling']}\n"
     ]
    }
   ],
   "source": [
    "# get trending topics\n",
    "\n",
    "def gettrending(from_timestamp, to_timestamp):\n",
    "    url = f'http://127.0.0.1:5000/getTrendingTopics?from_timestamp={from_timestamp}&to_timestamp={to_timestamp}'\n",
    "\n",
    "    response = requests.get(url)\n",
    "\n",
    "    print('Response Status Code:', response.status_code)\n",
    "    print('Response Content:', response.json())\n",
    "\n",
    "gettrending(1, 3)"
   ]
  },
  {
   "cell_type": "code",
   "execution_count": 10,
   "metadata": {},
   "outputs": [
    {
     "name": "stdout",
     "output_type": "stream",
     "text": [
      "Response Status Code: 200\n",
      "Response Content: {'message': 'User deleted successfully'}\n"
     ]
    }
   ],
   "source": [
    "# delete user\n",
    "\n",
    "def deleteuser(username):\n",
    "    url = f'http://127.0.0.1:5000/deleteUser?user_name={username}'\n",
    "\n",
    "    response = requests.delete(url)\n",
    "\n",
    "    print('Response Status Code:', response.status_code)\n",
    "    print('Response Content:', response.json())\n",
    "\n",
    "deleteuser(\"user1\")"
   ]
  },
  {
   "cell_type": "code",
   "execution_count": null,
   "metadata": {},
   "outputs": [],
   "source": []
  }
 ],
 "metadata": {
  "kernelspec": {
   "display_name": "Python 3",
   "language": "python",
   "name": "python3"
  },
  "language_info": {
   "codemirror_mode": {
    "name": "ipython",
    "version": 3
   },
   "file_extension": ".py",
   "mimetype": "text/x-python",
   "name": "python",
   "nbconvert_exporter": "python",
   "pygments_lexer": "ipython3",
   "version": "3.10.7"
  }
 },
 "nbformat": 4,
 "nbformat_minor": 2
}
